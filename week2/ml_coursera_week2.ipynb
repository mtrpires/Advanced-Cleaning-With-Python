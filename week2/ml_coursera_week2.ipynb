{
  "nbformat": 4,
  "nbformat_minor": 0,
  "metadata": {
    "colab": {
      "name": "ml-coursera-week2.ipynb",
      "version": "0.3.2",
      "provenance": [],
      "include_colab_link": true
    },
    "kernelspec": {
      "name": "python3",
      "display_name": "Python 3"
    }
  },
  "cells": [
    {
      "cell_type": "markdown",
      "metadata": {
        "id": "view-in-github",
        "colab_type": "text"
      },
      "source": [
        "<a href=\"https://colab.research.google.com/github/mtrpires/Advanced-Cleaning-With-Python/blob/master/week2/ml_coursera_week2.ipynb\" target=\"_parent\"><img src=\"https://colab.research.google.com/assets/colab-badge.svg\" alt=\"Open In Colab\"/></a>"
      ]
    },
    {
      "cell_type": "markdown",
      "metadata": {
        "id": "Jm2pYDpluWDl",
        "colab_type": "text"
      },
      "source": [
        ""
      ]
    },
    {
      "cell_type": "markdown",
      "metadata": {
        "id": "iHprEad7uY_J",
        "colab_type": "text"
      },
      "source": [
        "## Machine Learning Course - [Week 2](https://www.coursera.org/learn/machine-learning/supplement/Q6mSN/matrices-and-vectors)\n",
        "Import NumPy & install Octave library for Python ([more info](https://pypi.org/project/oct2py/))"
      ]
    },
    {
      "cell_type": "code",
      "metadata": {
        "id": "Rj9YyJFTvmgf",
        "colab_type": "code",
        "colab": {}
      },
      "source": [
        "import numpy as np\n"
      ],
      "execution_count": 0,
      "outputs": []
    },
    {
      "cell_type": "code",
      "metadata": {
        "id": "8bDCwV_zt7rZ",
        "colab_type": "code",
        "colab": {}
      },
      "source": [
        "!pip install oct2py"
      ],
      "execution_count": 0,
      "outputs": []
    },
    {
      "cell_type": "code",
      "metadata": {
        "id": "j3oJfpxIu6LL",
        "colab_type": "code",
        "colab": {}
      },
      "source": [
        "# Creates a Matrix A\n",
        "A = np.mat([[1, 2, 3], \n",
        "              [4, 5, 6], \n",
        "              [7, 8, 9], \n",
        "              [10, 11, 12]])\n"
      ],
      "execution_count": 0,
      "outputs": []
    },
    {
      "cell_type": "code",
      "metadata": {
        "id": "oRCol3GEvTws",
        "colab_type": "code",
        "colab": {}
      },
      "source": [
        "# Creates a Vector a\n",
        "a = np.array([1, 2, 3])"
      ],
      "execution_count": 0,
      "outputs": []
    },
    {
      "cell_type": "code",
      "metadata": {
        "id": "Mo5qCDq_wR63",
        "colab_type": "code",
        "outputId": "4defdd8e-6ead-4350-de30-8c849844b4d5",
        "colab": {
          "base_uri": "https://localhost:8080/",
          "height": 34
        }
      },
      "source": [
        "matrix = np.shape(A) # rows x columns (tuple)\n",
        "array = np.shape(a) # Number of \"rows\" in the array (tuple)\n",
        "\n",
        "print(\n",
        "    \"Matrix has {0} rows and {1} columns. The array has {2} rows.\".format(\n",
        "    matrix[0], matrix[1], array[0])\n",
        ")"
      ],
      "execution_count": 0,
      "outputs": [
        {
          "output_type": "stream",
          "text": [
            "Matrix has 4 rows and 3 columns. The array has 3 rows.\n"
          ],
          "name": "stdout"
        }
      ]
    },
    {
      "cell_type": "code",
      "metadata": {
        "id": "GLHpPZqmyL6i",
        "colab_type": "code",
        "outputId": "05c21d01-bc6d-4565-c2c7-f9d3847a2f77",
        "colab": {
          "base_uri": "https://localhost:8080/",
          "height": 34
        }
      },
      "source": [
        "A_12 = A[1, 2] # Store matrix value"
      ],
      "execution_count": 0,
      "outputs": [
        {
          "output_type": "execute_result",
          "data": {
            "text/plain": [
              "6"
            ]
          },
          "metadata": {
            "tags": []
          },
          "execution_count": 41
        }
      ]
    }
  ]
}